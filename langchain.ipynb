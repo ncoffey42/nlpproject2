{
 "cells": [
  {
   "cell_type": "markdown",
   "id": "5fe192bb-0752-4aea-befb-74f8c9ef7c0c",
   "metadata": {},
   "source": [
    "# Environment"
   ]
  },
  {
   "cell_type": "code",
   "execution_count": 14,
   "id": "5baebcc2-2e0f-48c7-bb27-8919de795389",
   "metadata": {},
   "outputs": [],
   "source": [
    "import os\n",
    "import pandas as pd\n",
    "from dotenv import load_dotenv\n",
    "\n",
    "load_dotenv()  # take environment variables from .env.\n",
    "\n",
    "from langchain_openai import ChatOpenAI\n",
    "from langchain.chains import create_extraction_chain"
   ]
  },
  {
   "cell_type": "markdown",
   "id": "fee2676c-6d6c-4e6e-a127-cebf9ca6f2dc",
   "metadata": {},
   "source": [
    "# Get the data"
   ]
  },
  {
   "cell_type": "code",
   "execution_count": 15,
   "id": "a07b9043-9bee-4d13-a14a-9c2a180709ea",
   "metadata": {},
   "outputs": [],
   "source": [
    "with open(\"Data/books/The-Murder-of-Roger-Ackroyd.txt\") as f:\n",
    "    book = f.read().strip()\n",
    "\n",
    "#get book parts\n",
    "book_parts = []\n",
    "\n",
    "#grab 8000 token sections of the book and add it to the list of book parts\n",
    "for i in range(0, len(book), 10000):\n",
    "    book_parts.append(book[i:i+10000:])"
   ]
  },
  {
   "cell_type": "markdown",
   "id": "6757c339-1753-46ab-a9f8-4868b7e3d9b5",
   "metadata": {},
   "source": [
    "# OpenAI"
   ]
  },
  {
   "cell_type": "code",
   "execution_count": 16,
   "id": "2bbaba71-dbf5-44ef-9419-eb0389653c19",
   "metadata": {},
   "outputs": [],
   "source": [
    "schema = {\n",
    "    \"properties\": {\n",
    "        \"protagonist\": {\"type\": \"string\"},\n",
    "        \"antagonist\": {\"type\": \"string\"},\n",
    "        \"murder weapon\": {\"type\": \"string\"},\n",
    "        \"victim\": {\"type\": \"string\"}\n",
    "    }\n",
    "}\n",
    "\n",
    "# Run Chain\n",
    "llm = ChatOpenAI()\n",
    "chain = create_extraction_chain(schema, llm)"
   ]
  },
  {
   "cell_type": "markdown",
   "id": "9f06b82c-08b3-4c01-938e-3883b0057dd4",
   "metadata": {},
   "source": [
    "# Single"
   ]
  },
  {
   "cell_type": "code",
   "execution_count": 17,
   "id": "2cb57da9-587a-48af-8189-d594e6a8d0b8",
   "metadata": {},
   "outputs": [
    {
     "name": "stdout",
     "output_type": "stream",
     "text": [
      "[{'protagonist': 'Dr. Sheppard', 'antagonist': 'Caroline', 'victim': 'Mrs. Ferrars', 'murder weapon': 'veronal'}]\n",
      "[{'protagonist': 'Caroline', 'antagonist': 'Mrs. Ferrars', 'victim': 'Mrs. Ferrars', 'murder weapon': 'poison'}]\n",
      "[{'protagonist': 'Dr. Sheppard', 'antagonist': 'Miss Russell', 'murder weapon': 'poison', 'victim': 'Mrs. Ferrars'}]\n",
      "[{'protagonist': 'Caroline', 'antagonist': 'Mr. Porrott', 'murder weapon': 'vegetable marrow', 'victim': 'not mentioned'}]\n",
      "[{'protagonist': 'Ralph Paton', 'antagonist': 'stepfather', 'victim': 'old man'}]\n",
      "[{'protagonist': 'Flora', 'victim': 'Ashley Ferrars', 'murder weapon': 'poison', 'antagonist': 'Mrs. Ferrars'}]\n",
      "[{'protagonist': 'Roger Ackroyd', 'antagonist': 'unknown', 'murder weapon': 'poison', 'victim': 'Mrs. Ferrars'}]\n",
      "[{'protagonist': 'Dr. Sheppard', 'antagonist': 'Mr. Ackroyd', 'murder weapon': 'dagger', 'victim': 'Mr. Ackroyd'}]\n",
      "[{'protagonist': 'Dr. Sheppard', 'antagonist': 'Mr. Ackroyd'}]\n",
      "[{'protagonist': 'Hector Blunt', 'antagonist': 'Parker', 'victim': 'Roger Ackroyd', 'murder weapon': 'Tunisian Dagger'}]\n",
      "[{'protagonist': 'Flora Ackroyd', 'antagonist': 'Inspector Davis', 'murder weapon': 'Tunisian dagger'}]\n",
      "[{'protagonist': 'Hercule Poirot', 'antagonist': 'Inspector Raglan', 'victim': 'Captain Ralph Paton'}]\n",
      "[{'protagonist': 'Poirot', 'antagonist': 'unknown', 'murder weapon': 'dagger', 'victim': 'Ackroyd'}]\n",
      "[{'protagonist': 'Poirot', 'antagonist': 'unknown', 'victim': 'Mr. Ackroyd'}]\n",
      "[{'protagonist': 'Hercule Poirot', 'antagonist': 'Captain Paton', 'murder weapon': 'dagger', 'victim': 'Mr. Ackroyd'}]\n",
      "[{'protagonist': 'Flora', 'antagonist': 'Inspector Raglan', 'murder weapon': 'dagger', 'victim': 'Mr. Ackroyd'}]\n",
      "[{'protagonist': 'Hercule Poirot', 'antagonist': 'Captain Ralph Paton', 'victim': 'Roger Ackroyd'}]\n",
      "[{'protagonist': 'Poirot', 'antagonist': 'Inspector Raglan', 'victim': 'Mr. Ackroyd', 'murder weapon': 'unknown'}]\n",
      "[{'protagonist': 'Poirot', 'antagonist': 'Ackroyd', 'victim': 'Ackroyd', 'murder weapon': 'unknown'}]\n",
      "[{'protagonist': 'James', 'antagonist': 'Ralph Paton', 'victim': 'Ackroyd', 'murder weapon': 'dagger'}]\n",
      "[{'protagonist': 'Poirot', 'antagonist': 'mysterious stranger', 'murder weapon': 'dagger', 'victim': 'Mr. Ackroyd'}]\n",
      "[{'protagonist': 'Poirot', 'antagonist': 'American stranger', 'murder weapon': 'dagger'}]\n",
      "[{'protagonist': 'Ralph Paton', 'antagonist': 'unknown', 'murder weapon': 'unknown', 'victim': 'Roger Ackroyd'}]\n",
      "[{'protagonist': 'Mrs. Ackroyd', 'antagonist': 'Bourne', 'murder weapon': 'unknown', 'victim': 'Mr. Ackroyd'}]\n",
      "[{'protagonist': 'Caroline', 'antagonist': 'Geoffrey Raymond', 'victim': 'Mr. Ackroyd'}]\n",
      "[{'protagonist': 'Poirot', 'antagonist': 'Parker', 'murder weapon': 'stabbing', 'victim': 'Mr. Ackroyd'}]\n",
      "[{'protagonist': 'Caroline', 'antagonist': 'Ralph Paton', 'murder weapon': 'poisons'}]\n",
      "[{'protagonist': 'Dr. Sheppard', 'antagonist': 'Parker'}]\n",
      "[{'protagonist': 'Poirot', 'antagonist': 'Mrs. Ferrars', 'victim': 'Ashley Ferrars', 'murder weapon': 'dagger'}]\n",
      "[{'protagonist': 'Poirot', 'victim': 'Mr. Ackroyd', 'murder weapon': 'goose quill'}]\n",
      "[{'protagonist': 'Poirot', 'antagonist': 'Charles Kent', 'murder weapon': 'unknown', 'victim': 'Roger Ackroyd'}]\n",
      "[{'protagonist': 'Flora', 'antagonist': 'Blunt', 'murder weapon': 'unknown', 'victim': 'Mr. Ackroyd'}]\n",
      "[{'protagonist': 'Poirot', 'antagonist': 'Charles Kent', 'victim': 'Mr. Ackroyd'}]\n",
      "[{'protagonist': 'Miss Russell', 'victim': 'Mr. Ackroyd', 'murder weapon': 'stabbed in the neck'}]\n",
      "[{'protagonist': 'Mrs. Ackroyd', 'victim': 'Roger Ackroyd', 'antagonist': 'Inspector Raglan'}]\n",
      "[{'protagonist': 'Ursula Paton', 'antagonist': 'Roger Ackroyd', 'victim': 'Roger Ackroyd'}]\n",
      "[{'protagonist': 'Hastings', 'antagonist': 'Poirot', 'victim': 'Mr. Ackroyd'}]\n",
      "[{'protagonist': 'Ralph Paton', 'antagonist': 'Mr. Ackroyd', 'victim': 'Mr. Ackroyd'}]\n",
      "[{'protagonist': 'Ralph Paton', 'antagonist': 'unknown', 'murder weapon': 'unknown', 'victim': 'Mr. Ackroyd'}]\n",
      "[{'protagonist': 'Dr. Sheppard', 'antagonist': 'Mr. Ackroyd', 'murder weapon': 'dagger', 'victim': 'Mr. Ackroyd'}]\n",
      "[{'protagonist': 'Dr. Sheppard', 'antagonist': 'Ralph Paton', 'murder weapon': 'dagger', 'victim': 'Mrs. Ferrars'}]\n",
      "[{'protagonist': 'Nancy Gage'}, {'protagonist': 'Sonia Marsh'}, {'antagonist': 'Doctor'}]\n",
      "[{'protagonist': 'Project Gutenberg', 'antagonist': 'copyright holder', 'victim': 'user'}]\n",
      "[{'protagonist': 'Project Gutenberg', 'antagonist': 'laws', 'victim': 'tax exempt status'}]\n"
     ]
    }
   ],
   "source": [
    "for book_part in book_parts:\n",
    "    response = chain.invoke(book_part)['text']\n",
    "    print(response)"
   ]
  }
 ],
 "metadata": {
  "kernelspec": {
   "display_name": "langchain",
   "language": "python",
   "name": "python3"
  },
  "language_info": {
   "codemirror_mode": {
    "name": "ipython",
    "version": 3
   },
   "file_extension": ".py",
   "mimetype": "text/x-python",
   "name": "python",
   "nbconvert_exporter": "python",
   "pygments_lexer": "ipython3",
   "version": "3.9.20"
  }
 },
 "nbformat": 4,
 "nbformat_minor": 5
}
